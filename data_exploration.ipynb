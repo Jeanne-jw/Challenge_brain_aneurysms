{
 "cells": [
  {
   "cell_type": "code",
   "execution_count": null,
   "metadata": {
    "collapsed": true
   },
   "outputs": [],
   "source": [
    "import numpy as np\n",
    "import h5py\n",
    "import os\n",
    "from dataviz import view_sample, show_aneurysm\n",
    "\n",
    "%matplotlib inline"
   ]
  },
  {
   "cell_type": "code",
   "execution_count": null,
   "outputs": [],
   "source": [
    "data = []\n",
    "for root, dirs, filenames in os.walk('challenge_dataset/'):  # adapt path\n",
    "    for file in filenames:\n",
    "        data.append(h5py.File(f'{root}{file}'))"
   ],
   "metadata": {
    "collapsed": false
   }
  },
  {
   "cell_type": "code",
   "execution_count": null,
   "outputs": [],
   "source": [
    "print(f'Data shape : \\n'\n",
    "      f'Raws : {data[0][\"raw\"].shape}\\n'\n",
    "      f'Labels : {data[0][\"label\"].shape}\\n'\n",
    "      f'Data type : \\n'\n",
    "      f'Raws : {data[0][\"raw\"].dtype}\\n'\n",
    "      f'Labels : {data[0][\"label\"].dtype}')"
   ],
   "metadata": {
    "collapsed": false
   }
  },
  {
   "cell_type": "code",
   "execution_count": null,
   "outputs": [],
   "source": [
    "# Is there 1 and only 1 aneurysm per sample ?\n",
    "no_aneurysm_samples = 0\n",
    "multiple_aneurysms = 0\n",
    "\n",
    "for sample_idx, sample in enumerate(data):\n",
    "    max_arr = np.zeros(shape=len(sample['label']))\n",
    "    for lab_idx, label in enumerate(sample['label']):\n",
    "        max_arr[lab_idx] = label.max()\n",
    "    labeled = np.trim_zeros(max_arr)\n",
    "    if labeled.size == 0:\n",
    "        print(f'At sample {sample_idx}, there is no aneurysm')\n",
    "        no_aneurysm_samples += 1\n",
    "    if labeled.min() == 0:\n",
    "        print(f'At sample {sample_idx}, there is more than one aneurysm')\n",
    "        multiple_aneurysms += 1\n",
    "\n",
    "print(f'\\nTotal irregular samples : {no_aneurysm_samples + multiple_aneurysms}\\n'\n",
    "      f'Samples with no aneurysm : {no_aneurysm_samples}\\n'\n",
    "      f'Samples with more than one aneurysm : {multiple_aneurysms}')"
   ],
   "metadata": {
    "collapsed": false
   }
  },
  {
   "cell_type": "code",
   "execution_count": null,
   "outputs": [],
   "source": [
    "view_sample(data, 5, 'label')"
   ],
   "metadata": {
    "collapsed": false
   }
  },
  {
   "cell_type": "code",
   "execution_count": null,
   "outputs": [],
   "source": [
    "show_aneurysm(data, 0, plot_size=8)"
   ],
   "metadata": {
    "collapsed": false
   }
  },
  {
   "cell_type": "code",
   "execution_count": null,
   "outputs": [],
   "source": [],
   "metadata": {
    "collapsed": false
   }
  }
 ],
 "metadata": {
  "kernelspec": {
   "display_name": "Python 3",
   "language": "python",
   "name": "python3"
  },
  "language_info": {
   "codemirror_mode": {
    "name": "ipython",
    "version": 2
   },
   "file_extension": ".py",
   "mimetype": "text/x-python",
   "name": "python",
   "nbconvert_exporter": "python",
   "pygments_lexer": "ipython2",
   "version": "2.7.6"
  }
 },
 "nbformat": 4,
 "nbformat_minor": 0
}
