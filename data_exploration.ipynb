{
 "cells": [
  {
   "cell_type": "code",
   "execution_count": null,
   "metadata": {
    "collapsed": true
   },
   "outputs": [],
   "source": [
    "import numpy as np\n",
    "import h5py\n",
    "from matplotlib import pyplot as plt\n",
    "import os\n",
    "\n",
    "%matplotlib inline"
   ]
  },
  {
   "cell_type": "code",
   "execution_count": null,
   "outputs": [],
   "source": [
    "data = []\n",
    "for root, dirs, filenames in os.walk('challenge_dataset/'):  # adapt path\n",
    "    for file in filenames:\n",
    "        data.append(h5py.File(f'{root}{file}'))"
   ],
   "metadata": {
    "collapsed": false
   }
  },
  {
   "cell_type": "code",
   "execution_count": null,
   "outputs": [],
   "source": [
    "# Is there 1 and only 1 aneurysm per sample ?\n",
    "no_aneurysm_samples = 0\n",
    "multiple_aneurysms = 0\n",
    "\n",
    "for sample_idx, sample in enumerate(data):\n",
    "    max_arr = np.zeros(shape=len(sample['label']))\n",
    "    for lab_idx, label in enumerate(sample['label']):\n",
    "        max_arr[lab_idx] = label.max()\n",
    "    labeled = np.trim_zeros(max_arr)\n",
    "    if labeled.size == 0:\n",
    "        print(f'At sample {sample_idx}, there is no aneurysm')\n",
    "        no_aneurysm_samples += 1\n",
    "    if labeled.min() == 0:\n",
    "        print(f'At sample {sample_idx}, there is more than one aneurysm')\n",
    "        multiple_aneurysms += 1\n",
    "\n",
    "print(f'\\nTotal irregular samples : {no_aneurysm_samples + multiple_aneurysms}\\n'\n",
    "      f'Samples with no aneurysm : {no_aneurysm_samples}\\n'\n",
    "      f'Samples with more than one aneurysm : {multiple_aneurysms}')"
   ],
   "metadata": {
    "collapsed": false
   }
  },
  {
   "cell_type": "code",
   "execution_count": null,
   "outputs": [],
   "source": [
    "def view_sample(imgs, idx, kind='raw'):\n",
    "    \"\"\"\n",
    "    View an entire sample given an index.\n",
    "    :param imgs: data\n",
    "    :param idx: index of sample\n",
    "    :param kind: 'raw' for brain image, 'label' for aneurysm label\n",
    "    :return: None\n",
    "    \"\"\"\n",
    "    _, _ax = plt.subplots(8, 8, figsize=(64, 64))\n",
    "\n",
    "    for i in range(8):\n",
    "        for j in range(8):\n",
    "            _ax[i][j].imshow(imgs[idx][kind][8 * i + j], cmap='gray')"
   ],
   "metadata": {
    "collapsed": false
   }
  },
  {
   "cell_type": "code",
   "execution_count": null,
   "outputs": [],
   "source": [
    "view_sample(data, 5, 'label')"
   ],
   "metadata": {
    "collapsed": false
   }
  },
  {
   "cell_type": "code",
   "execution_count": null,
   "outputs": [],
   "source": [
    "def show_aneurysm(imgs, idx: int, plot_size=6, img_cmap='gray', label_cmap='gray'):\n",
    "    \"\"\"\n",
    "    Given an index, plot images of the aneurysm\n",
    "    :param imgs: List of hdf5 data\n",
    "    :param idx: int in [0, 105]\n",
    "    :param plot_size: int, size of each square subplot\n",
    "    :param label_cmap: str or matplotlib color map object\n",
    "    :param img_cmap: str or matplotlib color map object\n",
    "    :return: None\n",
    "    \"\"\"\n",
    "\n",
    "    raws, labels = imgs[idx]['raw'], imgs[idx]['label']\n",
    "    i_min, i_max = 0, -1\n",
    "\n",
    "    # Find first nonzero label\n",
    "    for i, label in enumerate(labels):\n",
    "        if label.max() != 0:\n",
    "            i_min = i\n",
    "            break\n",
    "\n",
    "    # Find last nonzero label\n",
    "    for i, label in enumerate(reversed(labels)):\n",
    "        if label.max() != 0:\n",
    "            i_max = -i\n",
    "            break\n",
    "\n",
    "    # Take 1 image before and after the labeled aneurysm\n",
    "    if i_min != 0:\n",
    "        i_min -= 1\n",
    "    if i_max != -1:\n",
    "        i_max += 1\n",
    "    i_max = len(labels) + i_max\n",
    "\n",
    "    n_imgs = i_max - i_min + 1\n",
    "    _, axes = plt.subplots(n_imgs, 2, figsize=(plot_size, n_imgs * plot_size//2))\n",
    "    for i in range(n_imgs):\n",
    "        axes[i][0].imshow(data[idx]['raw'][i + i_min], cmap=img_cmap)\n",
    "        axes[i][1].imshow(data[idx]['label'][i + i_min], cmap=label_cmap)"
   ],
   "metadata": {
    "collapsed": false
   }
  },
  {
   "cell_type": "code",
   "execution_count": null,
   "outputs": [],
   "source": [
    "show_aneurysm(data, 0, plot_size=8)"
   ],
   "metadata": {
    "collapsed": false
   }
  },
  {
   "cell_type": "code",
   "execution_count": null,
   "outputs": [],
   "source": [],
   "metadata": {
    "collapsed": false
   }
  }
 ],
 "metadata": {
  "kernelspec": {
   "display_name": "Python 3",
   "language": "python",
   "name": "python3"
  },
  "language_info": {
   "codemirror_mode": {
    "name": "ipython",
    "version": 2
   },
   "file_extension": ".py",
   "mimetype": "text/x-python",
   "name": "python",
   "nbconvert_exporter": "python",
   "pygments_lexer": "ipython2",
   "version": "2.7.6"
  }
 },
 "nbformat": 4,
 "nbformat_minor": 0
}
