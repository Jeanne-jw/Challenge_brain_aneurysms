{
 "cells": [
  {
   "cell_type": "code",
   "execution_count": null,
   "metadata": {
    "collapsed": true
   },
   "outputs": [],
   "source": [
    "import numpy as np\n",
    "from torch import nn\n",
    "import torchvision as tv\n",
    "import torch\n",
    "import h5py\n",
    "import os"
   ]
  },
  {
   "cell_type": "code",
   "execution_count": null,
   "outputs": [],
   "source": [
    "assert torch.cuda.is_available()\n",
    "device = torch.cuda.device(0)\n",
    "print(torch.cuda.get_device_name(device))"
   ],
   "metadata": {
    "collapsed": false
   }
  },
  {
   "cell_type": "code",
   "execution_count": null,
   "outputs": [],
   "source": [
    "data = []\n",
    "for root, dirs, filenames in os.walk('challenge_dataset/'):  # adapt path\n",
    "    for file in filenames:\n",
    "        data.append(h5py.File(f'{root}{file}'))"
   ],
   "metadata": {
    "collapsed": false
   }
  },
  {
   "cell_type": "code",
   "execution_count": null,
   "outputs": [],
   "source": [
    "# Building blocks for U-Net\n",
    "class Block(nn.Module):\n",
    "    def __init__(self, in_ch, out_ch):\n",
    "        super().__init__()\n",
    "        self.conv1 = nn.Conv3d(in_channels=in_ch, out_channels=out_ch, kernel_size=3)\n",
    "        self.relu = nn.ReLU()\n",
    "        self.conv2 = nn.Conv3d(in_channels=out_ch, out_channels=out_ch, kernel_size=3)\n",
    "\n",
    "    def forward(self, x):\n",
    "        return self.relu(self.conv2(self.relu(self.conv1(x))))"
   ],
   "metadata": {
    "collapsed": false
   }
  },
  {
   "cell_type": "code",
   "execution_count": null,
   "outputs": [],
   "source": [
    "class Encoder(nn.Module):\n",
    "    def __init__(self, channels=(1, 64, 128, 256)):\n",
    "        super().__init__()\n",
    "        self.enc_blocks = nn.ModuleList([Block(channels[i], channels[i+1]) for i in range(len(channels)-1)])\n",
    "        self.pool       = nn.MaxPool3d(2, stride=2)\n",
    "\n",
    "    def forward(self, x):\n",
    "        ftrs = []\n",
    "        for i, block in enumerate(self.enc_blocks):\n",
    "            x = block(x)\n",
    "            ftrs.append(x)\n",
    "            x = self.pool(x)\n",
    "        return ftrs"
   ],
   "metadata": {
    "collapsed": false
   }
  },
  {
   "cell_type": "code",
   "execution_count": null,
   "outputs": [],
   "source": [
    "encoder = Encoder()\n",
    "x = torch.Tensor(np.expand_dims(np.array(data[0]['raw']), (0, 1)))\n",
    "print(x.shape)"
   ],
   "metadata": {
    "collapsed": false
   }
  },
  {
   "cell_type": "code",
   "execution_count": null,
   "outputs": [],
   "source": [
    "ftrs = encoder(x)\n",
    "for ftr in ftrs:\n",
    "    print(ftr.shape)"
   ],
   "metadata": {
    "collapsed": false
   }
  },
  {
   "cell_type": "code",
   "execution_count": null,
   "outputs": [],
   "source": [
    "class Decoder(nn.Module):\n",
    "    def __init__(self, channels=(256, 128, 64)):\n",
    "        super().__init__()\n",
    "        self.channels         = channels\n",
    "        self.upconvs    = nn.ModuleList([nn.ConvTranspose3d(channels[i], channels[i+1], 2, 2) for i in range(len(channels)-1)])\n",
    "        self.dec_blocks = nn.ModuleList([Block(channels[i], channels[i+1]) for i in range(len(channels)-1)])\n",
    "\n",
    "    def forward(self, x, encoder_features):\n",
    "        for i in range(len(self.channels)-1):\n",
    "            x        = self.upconvs[i](x)\n",
    "            enc_ftrs = self.crop(encoder_features[i], x)\n",
    "            x        = torch.cat([x, enc_ftrs], dim=1)\n",
    "            x        = self.dec_blocks[i](x)\n",
    "        return x\n",
    "\n",
    "    @staticmethod\n",
    "    def crop(enc_ftrs, x):\n",
    "        _, _, H, W, D = x.shape\n",
    "        enc_ftrs   = tv.transforms.CenterCrop([H, W, D])(enc_ftrs)\n",
    "        return enc_ftrs"
   ],
   "metadata": {
    "collapsed": false
   }
  },
  {
   "cell_type": "code",
   "execution_count": null,
   "outputs": [],
   "source": [
    "decoder = Decoder()\n",
    "t = torch.randn(1, 256, 9, 41, 41)\n",
    "decoder(t, ftrs[::-1][1:])"
   ],
   "metadata": {
    "collapsed": false
   }
  },
  {
   "cell_type": "code",
   "execution_count": null,
   "outputs": [],
   "source": [],
   "metadata": {
    "collapsed": false
   }
  }
 ],
 "metadata": {
  "kernelspec": {
   "display_name": "Python 3",
   "language": "python",
   "name": "python3"
  },
  "language_info": {
   "codemirror_mode": {
    "name": "ipython",
    "version": 2
   },
   "file_extension": ".py",
   "mimetype": "text/x-python",
   "name": "python",
   "nbconvert_exporter": "python",
   "pygments_lexer": "ipython2",
   "version": "2.7.6"
  }
 },
 "nbformat": 4,
 "nbformat_minor": 0
}
